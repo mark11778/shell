{
 "cells": [
  {
   "cell_type": "code",
   "id": "initial_id",
   "metadata": {
    "collapsed": true,
    "ExecuteTime": {
     "end_time": "2025-03-10T01:00:05.076096Z",
     "start_time": "2025-03-10T01:00:05.070327Z"
    }
   },
   "source": [
    "import os\n",
    "import subprocess\n",
    "import main"
   ],
   "outputs": [],
   "execution_count": 1
  },
  {
   "metadata": {
    "ExecuteTime": {
     "end_time": "2025-03-10T01:00:05.096306Z",
     "start_time": "2025-03-10T01:00:05.094382Z"
    }
   },
   "cell_type": "code",
   "source": "",
   "id": "8773c771fe3b05e0",
   "outputs": [],
   "execution_count": null
  },
  {
   "metadata": {
    "ExecuteTime": {
     "end_time": "2025-03-10T01:00:05.114011Z",
     "start_time": "2025-03-10T01:00:05.111174Z"
    }
   },
   "cell_type": "code",
   "source": "t = main.term(os.getcwd())",
   "id": "b9d1e514183e08c2",
   "outputs": [],
   "execution_count": 2
  },
  {
   "metadata": {
    "ExecuteTime": {
     "end_time": "2025-03-10T01:01:12.586065Z",
     "start_time": "2025-03-10T01:00:05.221328Z"
    }
   },
   "cell_type": "code",
   "source": "t.strt()",
   "id": "bff813515ee885b4",
   "outputs": [
    {
     "name": "stdout",
     "output_type": "stream",
     "text": [
      "\u001B[34m__pycache__\u001B[m\u001B[m\n",
      "main.py\n",
      "\u001B[34mtest\u001B[m\u001B[m\n",
      "test.ipynb\n",
      "\u001B[34mvenv\u001B[m\u001B[m\n",
      "CompletedProcess(args=['ls'], returncode=0)\n"
     ]
    },
    {
     "ename": "KeyboardInterrupt",
     "evalue": "Interrupted by user",
     "output_type": "error",
     "traceback": [
      "\u001B[31m---------------------------------------------------------------------------\u001B[39m",
      "\u001B[31mKeyboardInterrupt\u001B[39m                         Traceback (most recent call last)",
      "\u001B[36mCell\u001B[39m\u001B[36m \u001B[39m\u001B[32mIn[3]\u001B[39m\u001B[32m, line 1\u001B[39m\n\u001B[32m----> \u001B[39m\u001B[32m1\u001B[39m \u001B[43mt\u001B[49m\u001B[43m.\u001B[49m\u001B[43mstrt\u001B[49m\u001B[43m(\u001B[49m\u001B[43m)\u001B[49m\n",
      "\u001B[36mFile \u001B[39m\u001B[32m~/Documents/projects/shell-program/main.py:18\u001B[39m, in \u001B[36mterm.strt\u001B[39m\u001B[34m(self)\u001B[39m\n\u001B[32m     15\u001B[39m     \u001B[38;5;28mself\u001B[39m.cwd = os.path.dirname(os.getcwd())\n\u001B[32m     17\u001B[39m \u001B[38;5;28;01mwhile\u001B[39;00m \u001B[38;5;28;01mTrue\u001B[39;00m:\n\u001B[32m---> \u001B[39m\u001B[32m18\u001B[39m     cmd = \u001B[38;5;28;43minput\u001B[39;49m\u001B[43m(\u001B[49m\u001B[33;43mf\u001B[39;49m\u001B[33;43m\"\u001B[39;49m\u001B[38;5;132;43;01m{\u001B[39;49;00m\u001B[38;5;28;43mself\u001B[39;49m\u001B[43m.\u001B[49m\u001B[43mcwd\u001B[49m\u001B[38;5;132;43;01m}\u001B[39;49;00m\u001B[33;43m:> \u001B[39;49m\u001B[33;43m\"\u001B[39;49m\u001B[43m)\u001B[49m\n\u001B[32m     19\u001B[39m     _ = parse_input(cmd)\n\u001B[32m     20\u001B[39m     \u001B[38;5;28;01mif\u001B[39;00m \u001B[33m\"\u001B[39m\u001B[33mcd\u001B[39m\u001B[33m\"\u001B[39m \u001B[38;5;129;01min\u001B[39;00m _:\n",
      "\u001B[36mFile \u001B[39m\u001B[32m~/Documents/projects/shell-program/venv/lib/python3.13/site-packages/ipykernel/kernelbase.py:1282\u001B[39m, in \u001B[36mKernel.raw_input\u001B[39m\u001B[34m(self, prompt)\u001B[39m\n\u001B[32m   1280\u001B[39m     msg = \u001B[33m\"\u001B[39m\u001B[33mraw_input was called, but this frontend does not support input requests.\u001B[39m\u001B[33m\"\u001B[39m\n\u001B[32m   1281\u001B[39m     \u001B[38;5;28;01mraise\u001B[39;00m StdinNotImplementedError(msg)\n\u001B[32m-> \u001B[39m\u001B[32m1282\u001B[39m \u001B[38;5;28;01mreturn\u001B[39;00m \u001B[38;5;28;43mself\u001B[39;49m\u001B[43m.\u001B[49m\u001B[43m_input_request\u001B[49m\u001B[43m(\u001B[49m\n\u001B[32m   1283\u001B[39m \u001B[43m    \u001B[49m\u001B[38;5;28;43mstr\u001B[39;49m\u001B[43m(\u001B[49m\u001B[43mprompt\u001B[49m\u001B[43m)\u001B[49m\u001B[43m,\u001B[49m\n\u001B[32m   1284\u001B[39m \u001B[43m    \u001B[49m\u001B[38;5;28;43mself\u001B[39;49m\u001B[43m.\u001B[49m\u001B[43m_parent_ident\u001B[49m\u001B[43m[\u001B[49m\u001B[33;43m\"\u001B[39;49m\u001B[33;43mshell\u001B[39;49m\u001B[33;43m\"\u001B[39;49m\u001B[43m]\u001B[49m\u001B[43m,\u001B[49m\n\u001B[32m   1285\u001B[39m \u001B[43m    \u001B[49m\u001B[38;5;28;43mself\u001B[39;49m\u001B[43m.\u001B[49m\u001B[43mget_parent\u001B[49m\u001B[43m(\u001B[49m\u001B[33;43m\"\u001B[39;49m\u001B[33;43mshell\u001B[39;49m\u001B[33;43m\"\u001B[39;49m\u001B[43m)\u001B[49m\u001B[43m,\u001B[49m\n\u001B[32m   1286\u001B[39m \u001B[43m    \u001B[49m\u001B[43mpassword\u001B[49m\u001B[43m=\u001B[49m\u001B[38;5;28;43;01mFalse\u001B[39;49;00m\u001B[43m,\u001B[49m\n\u001B[32m   1287\u001B[39m \u001B[43m\u001B[49m\u001B[43m)\u001B[49m\n",
      "\u001B[36mFile \u001B[39m\u001B[32m~/Documents/projects/shell-program/venv/lib/python3.13/site-packages/ipykernel/kernelbase.py:1325\u001B[39m, in \u001B[36mKernel._input_request\u001B[39m\u001B[34m(self, prompt, ident, parent, password)\u001B[39m\n\u001B[32m   1322\u001B[39m \u001B[38;5;28;01mexcept\u001B[39;00m \u001B[38;5;167;01mKeyboardInterrupt\u001B[39;00m:\n\u001B[32m   1323\u001B[39m     \u001B[38;5;66;03m# re-raise KeyboardInterrupt, to truncate traceback\u001B[39;00m\n\u001B[32m   1324\u001B[39m     msg = \u001B[33m\"\u001B[39m\u001B[33mInterrupted by user\u001B[39m\u001B[33m\"\u001B[39m\n\u001B[32m-> \u001B[39m\u001B[32m1325\u001B[39m     \u001B[38;5;28;01mraise\u001B[39;00m \u001B[38;5;167;01mKeyboardInterrupt\u001B[39;00m(msg) \u001B[38;5;28;01mfrom\u001B[39;00m\u001B[38;5;250m \u001B[39m\u001B[38;5;28;01mNone\u001B[39;00m\n\u001B[32m   1326\u001B[39m \u001B[38;5;28;01mexcept\u001B[39;00m \u001B[38;5;167;01mException\u001B[39;00m:\n\u001B[32m   1327\u001B[39m     \u001B[38;5;28mself\u001B[39m.log.warning(\u001B[33m\"\u001B[39m\u001B[33mInvalid Message:\u001B[39m\u001B[33m\"\u001B[39m, exc_info=\u001B[38;5;28;01mTrue\u001B[39;00m)\n",
      "\u001B[31mKeyboardInterrupt\u001B[39m: Interrupted by user"
     ]
    }
   ],
   "execution_count": 3
  },
  {
   "metadata": {
    "ExecuteTime": {
     "end_time": "2025-03-06T15:52:44.699004Z",
     "start_time": "2025-03-06T15:52:44.673529Z"
    }
   },
   "cell_type": "code",
   "source": [
    "subprocess.check_output([\"cd\", \"..\"], shell=True)\n",
    "result = subprocess.check_output([\"ls\"], shell=True)\n",
    "print(result.decode(\"utf-8\"))"
   ],
   "id": "f9078c4e81b80a74",
   "outputs": [
    {
     "name": "stdout",
     "output_type": "stream",
     "text": [
      "\u001B[34m__pycache__\u001B[m\u001B[m\n",
      "main.py\n",
      "\u001B[34mtest\u001B[m\u001B[m\n",
      "test.ipynb\n",
      "\u001B[34mvenv\u001B[m\u001B[m\n",
      "\n"
     ]
    }
   ],
   "execution_count": 6
  },
  {
   "metadata": {
    "ExecuteTime": {
     "end_time": "2025-03-10T01:05:24.748293Z",
     "start_time": "2025-03-10T01:05:24.727195Z"
    }
   },
   "cell_type": "code",
   "source": [
    "# out, err = subprocess.Popen([\"ls\", \"-l\"], cwd=os.path.dirname(os.getcwd())).communicate()\n",
    "# print(out.decode(\"utf-8\"))\n",
    "p = subprocess.Popen([\"ls\", \"-l\"], cwd=os.getcwd(), stdout=subprocess.PIPE, stderr=subprocess.PIPE)\n",
    "out, err = p.communicate()\n",
    "print(out.decode(\"utf-8\"))\n",
    "\n",
    "\n",
    "# p.communicate()\n"
   ],
   "id": "876398043d873620",
   "outputs": [
    {
     "name": "stdout",
     "output_type": "stream",
     "text": [
      "total 32\n",
      "drwxr-xr-x@ 3 markruzicka  staff     96 Mar  9 20:00 \u001B[34m__pycache__\u001B[m\u001B[m\n",
      "-rw-r--r--@ 1 markruzicka  staff   1096 Mar  9 20:05 main.py\n",
      "drwxr-xr-x@ 3 markruzicka  staff     96 Mar  5 08:32 \u001B[34mtest\u001B[m\u001B[m\n",
      "-rw-r--r--@ 1 markruzicka  staff  10163 Mar  9 20:01 test.ipynb\n",
      "drwxr-xr-x  9 markruzicka  staff    288 Mar  3 08:34 \u001B[34mvenv\u001B[m\u001B[m\n",
      "\n"
     ]
    }
   ],
   "execution_count": 4
  },
  {
   "metadata": {
    "ExecuteTime": {
     "end_time": "2025-03-07T04:05:28.741866Z",
     "start_time": "2025-03-07T04:05:28.708303Z"
    }
   },
   "cell_type": "code",
   "source": [
    "subprocess.run([\"cd\", \"..\"], text=True)\n",
    "subprocess.run([\"ls\", \"-l\"], text=True)"
   ],
   "id": "ef8b53a93ae54562",
   "outputs": [
    {
     "name": "stdout",
     "output_type": "stream",
     "text": [
      "total 24\n",
      "drwxr-xr-x@ 3 markruzicka  staff    96 Mar  6 09:50 \u001B[34m__pycache__\u001B[m\u001B[m\n",
      "-rw-r--r--@ 1 markruzicka  staff   917 Mar  6 09:50 main.py\n",
      "drwxr-xr-x@ 3 markruzicka  staff    96 Mar  5 08:32 \u001B[34mtest\u001B[m\u001B[m\n",
      "-rw-r--r--@ 1 markruzicka  staff  5097 Mar  6 22:05 test.ipynb\n",
      "drwxr-xr-x  9 markruzicka  staff   288 Mar  3 08:34 \u001B[34mvenv\u001B[m\u001B[m\n"
     ]
    },
    {
     "data": {
      "text/plain": [
       "CompletedProcess(args=['ls', '-l'], returncode=0)"
      ]
     },
     "execution_count": 12,
     "metadata": {},
     "output_type": "execute_result"
    }
   ],
   "execution_count": 12
  },
  {
   "metadata": {
    "ExecuteTime": {
     "end_time": "2025-03-07T04:09:49.221680Z",
     "start_time": "2025-03-07T04:09:49.208443Z"
    }
   },
   "cell_type": "code",
   "source": "os.getcwd()\n",
   "id": "3fd33177be893372",
   "outputs": [
    {
     "data": {
      "text/plain": [
       "'/Users/markruzicka/Documents/projects/shell-program'"
      ]
     },
     "execution_count": 14,
     "metadata": {},
     "output_type": "execute_result"
    }
   ],
   "execution_count": 14
  },
  {
   "metadata": {
    "ExecuteTime": {
     "end_time": "2025-03-07T04:10:19.338704Z",
     "start_time": "2025-03-07T04:10:19.332707Z"
    }
   },
   "cell_type": "code",
   "source": "os.path.abspath(os.getcwd())",
   "id": "6f5f5e5285bc2b2a",
   "outputs": [
    {
     "data": {
      "text/plain": [
       "'/Users/markruzicka/Documents/projects/shell-program'"
      ]
     },
     "execution_count": 16,
     "metadata": {},
     "output_type": "execute_result"
    }
   ],
   "execution_count": 16
  },
  {
   "metadata": {
    "ExecuteTime": {
     "end_time": "2025-03-19T13:44:21.288395Z",
     "start_time": "2025-03-19T13:44:21.202076Z"
    }
   },
   "cell_type": "code",
   "source": [
    "import paramiko\n",
    "import time\n",
    "from paramiko.ssh_exception import SSHException\n",
    "\n",
    "\n",
    "class SSHTerminal:\n",
    "    def __init__(self):\n",
    "        self.hostn = None\n",
    "        self.connected = False\n",
    "        self.ssh = paramiko.SSHClient()\n",
    "\n",
    "    def connect(self, hostn, usern, password):\n",
    "        try:\n",
    "            self.ssh.connect(hostn, username=usern, password=password)\n",
    "            self.shell = self.ssh.invoke_shell()\n",
    "            self.hostn = hostn\n",
    "            self.strt()\n",
    "        except SSHException as e:\n",
    "            print(f\"Failed to connect to {hostn} : error: {e}\")\n",
    "\n",
    "    def strt(self):\n",
    "        if not self.connected:\n",
    "            print(\"SSH connection not established\")\n",
    "            return\n",
    "\n",
    "        while True:\n",
    "            cmd = input(f\"{self.hostn}:> \")\n",
    "            if cmd.strip().startswith(\"exit\"):\n",
    "                self.disconnect()\n",
    "            else:\n",
    "                self.run_command(cmd)\n",
    "\n",
    "    def run_command(self, cmd):\n",
    "        try:\n",
    "            self.shell.send(cmd + \"\\n\")\n",
    "            time.sleep(0.5)\n",
    "            output = self.shell.recv(1024).decode()\n",
    "\n",
    "        except SSHException as e:\n",
    "            print(f\"Failed to execute {cmd} : {e}\")\n",
    "\n",
    "\n",
    "    def disconnect(self):\n",
    "        if not self.connected:\n",
    "            print(\"SSH connection not established\")\n",
    "            return\n",
    "\n",
    "        self.ssh.close()\n",
    "        self.connected = False"
   ],
   "id": "42ea20dd033203f8",
   "outputs": [],
   "execution_count": 1
  },
  {
   "metadata": {},
   "cell_type": "code",
   "outputs": [],
   "execution_count": null,
   "source": "",
   "id": "a8498dbe98a285c3"
  }
 ],
 "metadata": {
  "kernelspec": {
   "display_name": "Python 3",
   "language": "python",
   "name": "python3"
  },
  "language_info": {
   "codemirror_mode": {
    "name": "ipython",
    "version": 2
   },
   "file_extension": ".py",
   "mimetype": "text/x-python",
   "name": "python",
   "nbconvert_exporter": "python",
   "pygments_lexer": "ipython2",
   "version": "2.7.6"
  }
 },
 "nbformat": 4,
 "nbformat_minor": 5
}
